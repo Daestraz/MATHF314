{
 "cells": [
  {
   "cell_type": "markdown",
   "metadata": {},
   "source": [
    "## Introduction\n",
    "\n",
    "Un sujet important en mécanique des fluides est l'étude de la stabilité des écoulements. De manière générale, on se donne un champ de vitesse du fluide laminaire $\\vec{U}(\\vec{x})$ et on étudie son évolution lorsqu'on lui ajoute des \"petites\" perturbations. Si ces perturbations décroissent systématiquement au cours du temps, l'écoulement sera dit **stable**. Dans le cas contraire, l'écoulement pourrait être **instable** et se transformer en un écoulement turbulent.\n",
    "\n",
    "Par exemple, soit l'écoulement de Poiseuille à 2D. Il correspond au déplacement laminaire d'un fluide entre deux plaques parallèles:\n",
    "\n",
    "\n",
    "\n",
    "En choisissant les unités de manière appropriées, le profil de cet écoulement est donné par\n",
    "$$\\vec{U}(y)=(1-y^2)\\vec{1}_x.$$\n",
    "La vitesse est maximale au centre du canal et nulle sur les parois solides.\n",
    "\n",
    "## Perturbation de l'écoulement de base\n",
    "Ajoutons une perturbation à cet écoulement de base. La vitesse totale de l'écoulement s'écrit alors,\n",
    "\n",
    "$$\\vec{u}(x,y,t)=(1-y^2)\\vec{1}_x + \\vec{u'}(x,y,t)$$ \n",
    "où\n",
    "\\begin{equation*}\n",
    "    \\vec{u}(x,y,t) = \n",
    "            \\begin{cases}\n",
    "               u'(x,y,t)           \\\\\n",
    "               v'(x,y,t)               \n",
    "            \\end{cases}\n",
    "\\end{equation*}\n",
    "\n",
    "est la perturbation. Comme nous faisons l'hypothèse que l'écoulement est incompressible, les deux composantes de la fluctuation ne sont pas indépendantes et sont reliées par,\n",
    "\n",
    "\\begin{align}\n",
    "\\frac{\\partial u'}{\\partial x}+\\frac{\\partial v'}{\\partial y}=0.\n",
    "\\end{align}\n",
    "\n",
    "Si le fluide considéré est un fluide commun comme l'air où l'eau, sa dynamique peut être décrite par les équations de Navier-Stokes. L'analyse de la stabilité de l'écoulement commence alors par la linéarisation de ces équations et il est possible de montrer que dans ce régime linéaire, la perturbation verticale du champ de vitesse obéït à l'équation d'Orr-Sommerfeld:\n",
    "\n",
    "\\begin{align}\n",
    "\\left(\\frac{\\partial}{\\partial t}+U(y)\\frac{\\partial}{\\partial x}\\right)\\nabla^2 v' - U''(y)\\frac{\\partial v}{\\partial x} - \\frac{1}{R}\\nabla^2 \\nabla^2 v' =0 \n",
    "\\end{align}\n",
    "\n",
    "avec comme conditions aux bords $v=\\partial v / \\partial y =0$ en $y=\\pm 1$ et où $\\nabla^2= \\partial^2 / \\partial^2 x^2+ \\partial / \\partial y^2$ et $R$ est le nombre de Reynolds de l'écoulement (paramêtre fixé).\n",
    "\n",
    "Le domaine étant infini dans la direction $x$, on peut toujours exprimer une perturbation comme une somme de modes périodiques monochromatiques (qui correspondent à une seule longueur d'onde). Si l'on se restreint à un seul mode, la perturbation $v'$ prend donc la forme d'un mode monochromatique dans la direction $x$:\n",
    "\n",
    "$$v'(x,y,t)=\\hat{v}'(y,t)e^{i\\alpha x}$$\n",
    "\n",
    "L'équation d'évolution pour $\\hat{v}'$ est alors:\n",
    "\n",
    "\\begin{align}\n",
    "\\frac{\\partial}{\\partial t}(D^2-\\alpha^2)\\hat{v}'&=\\left\\{-i\\alpha U(D^2-\\alpha^2)+i\\alpha U''+\\frac{1}{R}(D^2-\\alpha^2)^2\\right\\}\\hat{v}'\\\\\n",
    "&\\Leftrightarrow\\\\\n",
    "\\frac{\\partial}{\\partial t}\\hat{v}'&=(D^2-\\alpha^2)^{-1}\\left\\{-i\\alpha U(D^2-\\alpha^2)+i\\alpha U''+\\frac{1}{R}(D^2-\\alpha^2)^2\\right\\}\\hat{v}'\n",
    "\\end{align}\n",
    "où le symbole $D=\\frac{d}{dy}$ représente la dérivée par rapport à $y$ et $(D^2-\\alpha^2)^{-1}$ est l'inverse de l'opérateur $D^2-\\alpha^2$.\n",
    "\n",
    "De manière compacte, cette équation peut être écrite sous la forme:\n",
    "\n",
    "\\begin{align}\n",
    "\\frac{\\partial}{\\partial t}\\hat{v}'&=L\\hat{v}'\\quad\\quad (*)\n",
    "\\end{align}\n",
    "avec $L$ l'opérateur linéaire suivant:\n",
    "\n",
    "\\begin{align}\n",
    "L=(D^2-\\alpha^2)^{-1}\\left\\{-i\\alpha U(D^2-\\alpha^2)+i\\alpha U''+\\frac{1}{R}(D^2-\\alpha^2)^2\\right\\}\n",
    "\\end{align}"
   ]
  },
  {
   "cell_type": "markdown",
   "metadata": {},
   "source": [
    "Comme l'équation d'évolution de $\\hat{v}'$ est linéaire, il est aussi possible d'introduire un propagateur qui transforme toute condition initiale $\\hat{v}'(0)$ en la solution à l'instant $\\hat{v}'(t)$,\n",
    "\n",
    "\\begin{align}\n",
    "\\hat{v}'(t)=X(t)\\hat{v}'(0)\n",
    "\\end{align}\n",
    "\n",
    "En utilisant l'équation d'évolution de $\\hat{v}'$ on obtient directement l'équation d'évolution du propagateur:\n",
    "\\begin{align}\n",
    "\\frac{\\partial}{\\partial t}X(t)&=L X(t),\\,\\, \\mathrm{avec}\\;  X(0)=I \\quad\\quad (**) \n",
    "\\end{align}\n",
    "où $I$ est l'identité."
   ]
  },
  {
   "cell_type": "markdown",
   "metadata": {},
   "source": [
    "## Analyse de la stabilité\n",
    "\n",
    "Une des questions fondamentales qui se posent est de savoir si l'amplitude d'une perturbation quelconque va croître avec le temps et quelle est la forme optimale d'une perturbation pour déstabiliser l'écoulement. Ces questions peuvent être analysées en mesurant la norme (l'énergie cinétique dans notre cas) de la perturbation verticale au cours du temps:\n",
    "\n",
    "\\begin{align}\n",
    "{\\cal E}(t)=\\frac{1}{4a}\\int_{-1}^{1}\\int_0^a Re(v'(t))^2 dxdy\n",
    "\\end{align}\n",
    "\n",
    "où $a=2\\pi/\\alpha$ et $Re()$ désigne la partie réelle de $v'$. En utilisant la forme des perturbations choisies (modes monochromatiques) on a alors,\n",
    "\n",
    "\\begin{align}\n",
    "{\\cal E}(t)=\\lVert \\hat{v}^{'*}(t) \\lVert^2 =\\frac{1}{8}\\int_{-1}^{1}\\hat{v}^{'*}(t)\\hat{v}^{'}(t)dy\n",
    "\\end{align}\n",
    "où le symbole $^*$ represente le complexe conjugué."
   ]
  },
  {
   "cell_type": "markdown",
   "metadata": {},
   "source": [
    "Dans l'analyse de stabilité dite non-modale, on cherche la perturbation qui maximise l'amplification de la norme choisie. Par exemple, l'amplification maximale $\\Phi_\\alpha$ possible à un instant $t$ pour un nombre $\\alpha$ donnée est définie par:\n",
    "\n",
    "\\begin{align}\n",
    "\\Phi_\\alpha(t)=\\max_{\\hat{v}^{'}(0)}\\frac{\\lVert \\hat{v}^{'}(t)\\lVert}{\\lVert \\hat{v}^{'}(0)\\lVert}=\\max_{\\hat{v}^{'}(0)}\\frac{\\lVert X(t)\\hat{v}^{'}(0)\\lVert}{\\lVert \\hat{v}^{'}(0)\\lVert}= \\lVert X(t)\\lVert \n",
    "\\end{align}\n"
   ]
  },
  {
   "cell_type": "markdown",
   "metadata": {},
   "source": [
    "La dernière égalité résulte de la définition de la norme du propagateur $X(t)$. Lorsque la norme choisie est la norme $L^2$ comme ici, on peut montrer que la norme du propagateur est égale à sa plus grande valeur singulière. La décomposition d'une matrice à partir de ses valeurs singulières est une généralisation de la décomposition en valeurs propres: https://en.wikipedia.org/wiki/Singular_value_decomposition. Afin de déterminer les valeurs singulières d'une matrice, numpy contient une routine dédiée que nous pouvons utiliser ici. Elle prend la forme (voir manuel de numpy):\n",
    "\n",
    "```u,s,vh = numpy.linalg.svd(X)```\n",
    "\n",
    "$s$ est un vecteur dont les composantes correspondent aux valeurs singulières de la matrice $X(t)$. Par ailleurs, $u$ et $vh$ sont des matrices dont les colonnes correspondent respectivement aux vecteurs \"d'entrée et de sortie\" de la décomposition (modulo une transposition conjuguée pour vh). On a donc les relations:\n",
    "\n",
    "\\begin{align}\n",
    "X\\cdot v[:,i] = s_iu[:,i]\n",
    "\\end{align}\n",
    "\n",
    "où le $\\cdot$ représente la multiplication matricielle et $s_i$ est la $i$-ème valeur singulière."
   ]
  },
  {
   "cell_type": "markdown",
   "metadata": {},
   "source": [
    "## Travail personnel"
   ]
  },
  {
   "cell_type": "markdown",
   "metadata": {},
   "source": [
    "On commence par importer les modules Python nécessaires :"
   ]
  },
  {
   "cell_type": "code",
   "execution_count": 1,
   "metadata": {},
   "outputs": [],
   "source": [
    "import numpy \n",
    "import scipy\n",
    "from scipy import linalg\n",
    "from matplotlib import pyplot\n",
    "%matplotlib inline"
   ]
  },
  {
   "cell_type": "markdown",
   "metadata": {},
   "source": [
    "Afin de résoudre l'équation (*), on peut introduire une grille 1D comme suit :"
   ]
  },
  {
   "cell_type": "code",
   "execution_count": 8,
   "metadata": {},
   "outputs": [
    {
     "name": "stdout",
     "output_type": "stream",
     "text": [
      "[-1.   -0.98 -0.96 -0.94 -0.92 -0.9  -0.88 -0.86 -0.84 -0.82 -0.8  -0.78\n",
      " -0.76 -0.74 -0.72 -0.7  -0.68 -0.66 -0.64 -0.62 -0.6  -0.58 -0.56 -0.54\n",
      " -0.52 -0.5  -0.48 -0.46 -0.44 -0.42 -0.4  -0.38 -0.36 -0.34 -0.32 -0.3\n",
      " -0.28 -0.26 -0.24 -0.22 -0.2  -0.18 -0.16 -0.14 -0.12 -0.1  -0.08 -0.06\n",
      " -0.04 -0.02  0.    0.02  0.04  0.06  0.08  0.1   0.12  0.14  0.16  0.18\n",
      "  0.2   0.22  0.24  0.26  0.28  0.3   0.32  0.34  0.36  0.38  0.4   0.42\n",
      "  0.44  0.46  0.48  0.5   0.52  0.54  0.56  0.58  0.6   0.62  0.64  0.66\n",
      "  0.68  0.7   0.72  0.74  0.76  0.78  0.8   0.82  0.84  0.86  0.88  0.9\n",
      "  0.92  0.94  0.96  0.98  1.  ] 0.02\n"
     ]
    }
   ],
   "source": [
    "N=101\n",
    "L=1.0\n",
    "y=numpy.linspace(-L,L,N)\n",
    "dy=2*L/(N-1)\n",
    "print(y,dy)"
   ]
  },
  {
   "cell_type": "markdown",
   "metadata": {},
   "source": [
    "# **Question 1:**\n",
    "\n",
    "Pour $\\hat{v}'$, le problème contient 4 conditions aux bords. Les conditions du type Dirichlet se traduisent par: v[0]=0 et v[N-1]=0.\n",
    "\n",
    "En vous servant du lien, https://en.wikipedia.org/wiki/Finite_difference_coefficient, déterminer comment se traduisent les conditions du type von Neumann $\\frac{\\partial v}{\\partial y}(y=-1)=\\frac{\\partial v}{\\partial y}(y=1)=0$ si on adopte une \"forward finite difference\" du second ordre pour la dérivée première sur le bord $y=-1$ et une \"backward finite difference\" du second ordre pour la dérivée première sur le bord $y=1$."
   ]
  },
  {
   "cell_type": "markdown",
   "metadata": {},
   "source": [
    "Les conditions du type von Neumann se traduisent comme\n",
    "\n",
    "\\begin{align}\n",
    "    \\frac{d \\hat{v}'}{dy}(y=-1) \\approx & \\frac{-3/2 \\hat{v}'[0] + 2 \\hat{v}'[1] - 1/2 \\hat{v}'[2]}{h} = 0\\\\\n",
    "    \\frac{d \\hat{v}'}{dy}(y=+1) \\approx & \\frac{3/2 \\hat{v}'[100] - 2 \\hat{v}'[99] + 1/2 \\hat{v}'[98]}{h} = 0\n",
    "\\end{align}\n",
    "\n"
   ]
  },
  {
   "cell_type": "markdown",
   "metadata": {},
   "source": [
    "De plus, par les conditions de Dirichlet les termes de bord en [100] et en [0] sont nuls. Ce qui nous ramène à\n",
    "\n",
    "\\begin{align}\n",
    "    \\hat{v}'[1] = & - \\frac{1}{4} \\hat{v}'[2]\\\\\n",
    "    \\hat{v}'[99] = & - \\frac{1}{4} \\hat{v}'[98]\n",
    "\\end{align}"
   ]
  },
  {
   "cell_type": "markdown",
   "metadata": {},
   "source": [
    "De la question précédente, on déduit que la discrétisation de $\\hat{v}'$ ne contient que $N-4$ valeurs indépendantes et qu'on peut dès lors définir numériquement:"
   ]
  },
  {
   "cell_type": "code",
   "execution_count": 3,
   "metadata": {},
   "outputs": [
    {
     "name": "stdout",
     "output_type": "stream",
     "text": [
      "[  1.28463076e-316   0.00000000e+000   4.94065646e-324   1.13832725e-319\n",
      "   0.00000000e+000   0.00000000e+000   2.12200844e-314   0.00000000e+000\n",
      "   9.88131292e-324   2.12200717e-314   0.00000000e+000   0.00000000e+000\n",
      "   4.24400436e-314   0.00000000e+000   1.48219694e-323   6.36600078e-314\n",
      "   0.00000000e+000   0.00000000e+000   2.12200857e-314   0.00000000e+000\n",
      "   0.00000000e+000   1.39128886e-320   0.00000000e+000   0.00000000e+000\n",
      "   2.12200857e-314   0.00000000e+000   0.00000000e+000   1.27745613e-319\n",
      "   0.00000000e+000   0.00000000e+000   6.36600394e-314   0.00000000e+000\n",
      "   0.00000000e+000   8.48799455e-314   0.00000000e+000   0.00000000e+000\n",
      "   4.24400423e-314   0.00000000e+000   1.97626258e-323   2.12200857e-314\n",
      "   0.00000000e+000   0.00000000e+000   2.52961611e-320   0.00000000e+000\n",
      "   0.00000000e+000   1.27745613e-319   0.00000000e+000   0.00000000e+000\n",
      "   6.36600002e-314   0.00000000e+000   0.00000000e+000   3.03553933e-320\n",
      "   0.00000000e+000   0.00000000e+000   3.41498174e-320   0.00000000e+000\n",
      "   0.00000000e+000   1.06099903e-313   0.00000000e+000   0.00000000e+000\n",
      "   0.00000000e+000   0.00000000e+000   0.00000000e+000   0.00000000e+000\n",
      "   0.00000000e+000   0.00000000e+000   0.00000000e+000   0.00000000e+000\n",
      "   0.00000000e+000   0.00000000e+000   0.00000000e+000   0.00000000e+000\n",
      "   0.00000000e+000   0.00000000e+000   0.00000000e+000   0.00000000e+000\n",
      "   0.00000000e+000   0.00000000e+000   0.00000000e+000   0.00000000e+000\n",
      "   0.00000000e+000   0.00000000e+000   0.00000000e+000   0.00000000e+000\n",
      "   0.00000000e+000   0.00000000e+000   0.00000000e+000   0.00000000e+000\n",
      "   0.00000000e+000   0.00000000e+000   0.00000000e+000   0.00000000e+000\n",
      "   0.00000000e+000   0.00000000e+000   0.00000000e+000   0.00000000e+000\n",
      "   4.54253337e+198]\n"
     ]
    }
   ],
   "source": [
    "v=numpy.empty(N-4)\n",
    "print(v)"
   ]
  },
  {
   "cell_type": "markdown",
   "metadata": {},
   "source": [
    "Ces  dernières conditions supplées des conditions de type Dirichlet fournissent 4 facteurs fixés, permettant de réduire le nombre de paramètre indépendant à $N-4$."
   ]
  },
  {
   "cell_type": "markdown",
   "metadata": {},
   "source": [
    "**Question 2:** En tenant compte de votre réponse à la question 1, compléter la routine suivante afin qu'elle retourne une discrétisation de l'opérateur $D^2$ du type \"central finite difference\" valable à l'ordre 2 et qui agit sur les valeurs indépendantes de ${\\hat v}'$."
   ]
  },
  {
   "cell_type": "code",
   "execution_count": 4,
   "metadata": {},
   "outputs": [
    {
     "data": {
      "text/plain": [
       "array([  1.41294158e-316,   6.92195727e-310,   2.84557109e-316,\n",
       "         1.06099948e-313,   0.00000000e+000,   0.00000000e+000,\n",
       "         4.24400625e-314,   0.00000000e+000,   5.43472210e-323,\n",
       "         1.06099946e-313,   0.00000000e+000,   0.00000000e+000,\n",
       "         4.24400423e-314,   0.00000000e+000,   0.00000000e+000,\n",
       "         3.03553933e-320,   0.00000000e+000,   0.00000000e+000,\n",
       "         3.16202013e-320,   0.00000000e+000,   0.00000000e+000,\n",
       "         6.36600002e-314,   0.00000000e+000,   0.00000000e+000,\n",
       "         4.24400625e-314,   0.00000000e+000,   0.00000000e+000,\n",
       "         1.06099946e-313,   0.00000000e+000,   0.00000000e+000,\n",
       "         3.16202013e-320,   0.00000000e+000,   0.00000000e+000,\n",
       "         2.52961611e-320,   0.00000000e+000,   0.00000000e+000,\n",
       "         3.03553933e-320,   0.00000000e+000,   0.00000000e+000,\n",
       "         4.24400625e-314,   0.00000000e+000,   0.00000000e+000,\n",
       "         1.06099946e-313,   0.00000000e+000,   0.00000000e+000,\n",
       "         4.24400423e-314,   0.00000000e+000,   0.00000000e+000,\n",
       "         2.90905852e-320,   0.00000000e+000,   0.00000000e+000,\n",
       "         3.16202013e-320,   0.00000000e+000,   0.00000000e+000,\n",
       "         2.90905852e-320,   0.00000000e+000,   0.00000000e+000,\n",
       "         2.12201147e-314,   0.00000000e+000,   0.00000000e+000,\n",
       "         6.36600002e-314,   0.00000000e+000,   0.00000000e+000,\n",
       "         2.40313530e-320,   0.00000000e+000,   0.00000000e+000,\n",
       "         3.41498174e-320,   0.00000000e+000,   0.00000000e+000,\n",
       "         4.24400727e-314,   0.00000000e+000,   0.00000000e+000,\n",
       "         1.06099946e-313,   0.00000000e+000,   0.00000000e+000,\n",
       "         7.58884832e-320,   0.00000000e+000,   0.00000000e+000,\n",
       "         2.46151526e-312,   6.92195727e-310,   0.00000000e+000,\n",
       "         0.00000000e+000,   0.00000000e+000,   0.00000000e+000,\n",
       "         0.00000000e+000,   0.00000000e+000,   0.00000000e+000,\n",
       "         0.00000000e+000,   0.00000000e+000,   0.00000000e+000,\n",
       "         0.00000000e+000,   0.00000000e+000,   0.00000000e+000,\n",
       "         0.00000000e+000,   0.00000000e+000,   1.13563334e+202,\n",
       "         1.73686667e+185])"
      ]
     },
     "execution_count": 4,
     "metadata": {},
     "output_type": "execute_result"
    }
   ],
   "source": [
    "# Operator of the second derivative acting on v with respect to y \n",
    "def D2_v(N,dy):\n",
    "    D2_v=numpy.empty(N-4)\n",
    "    v1=numpy.empty(1)\n",
    "    v2=numpy.empty(2)\n",
    "    v1[0]=4*v[2]\n",
    "    v2[0]=4*v[N-5]\n",
    "    numpy.insert(v,0,v1)\n",
    "    numpy.insert(v,N-4,v2)\n",
    "    for i in (2,N-6):\n",
    "        D2_v[i]=(v[i-1]-2*v[i]+v[i+1])/dy**2\n",
    "    return D2_v\n",
    "\n",
    "D2_v(N,dy)"
   ]
  },
  {
   "cell_type": "markdown",
   "metadata": {},
   "source": [
    "**Question 3:** Faites de même pour l'opérateur de dérivée 4ème, $D^4 = \\frac{\\partial^4}{\\partial y^4}$ en complétant la routine suivante afin qu'elle retourne une discrétisation de l'opérateur $D^4$ du type \"central finite difference\" valable à l'ordre 2 et qui agit sur les valeurs indépendantes de ${\\hat v}'$."
   ]
  },
  {
   "cell_type": "code",
   "execution_count": 5,
   "metadata": {},
   "outputs": [
    {
     "name": "stdout",
     "output_type": "stream",
     "text": [
      "[  1.28463076e-316   0.00000000e+000   4.94065646e-324   1.13832725e-319\n",
      "   0.00000000e+000   0.00000000e+000   2.12200844e-314   0.00000000e+000\n",
      "   9.88131292e-324   2.12200717e-314   0.00000000e+000   0.00000000e+000\n",
      "   4.24400436e-314   0.00000000e+000   1.48219694e-323   6.36600078e-314\n",
      "   0.00000000e+000   0.00000000e+000   2.12200857e-314   0.00000000e+000\n",
      "   0.00000000e+000   1.39128886e-320   0.00000000e+000   0.00000000e+000\n",
      "   2.12200857e-314   0.00000000e+000   0.00000000e+000   1.27745613e-319\n",
      "   0.00000000e+000   0.00000000e+000   6.36600394e-314   0.00000000e+000\n",
      "   0.00000000e+000   8.48799455e-314   0.00000000e+000   0.00000000e+000\n",
      "   4.24400423e-314   0.00000000e+000   1.97626258e-323   2.12200857e-314\n",
      "   0.00000000e+000   0.00000000e+000   2.52961611e-320   0.00000000e+000\n",
      "   0.00000000e+000   1.27745613e-319   0.00000000e+000   0.00000000e+000\n",
      "   6.36600002e-314   0.00000000e+000   0.00000000e+000   3.03553933e-320\n",
      "   0.00000000e+000   0.00000000e+000   3.41498174e-320   0.00000000e+000\n",
      "   0.00000000e+000   1.06099903e-313   0.00000000e+000   0.00000000e+000\n",
      "   0.00000000e+000   0.00000000e+000   0.00000000e+000   0.00000000e+000\n",
      "   0.00000000e+000   0.00000000e+000   0.00000000e+000   0.00000000e+000\n",
      "   0.00000000e+000   0.00000000e+000   0.00000000e+000   0.00000000e+000\n",
      "   0.00000000e+000   0.00000000e+000   0.00000000e+000   0.00000000e+000\n",
      "   0.00000000e+000   0.00000000e+000   0.00000000e+000   0.00000000e+000\n",
      "   0.00000000e+000   0.00000000e+000   0.00000000e+000   0.00000000e+000\n",
      "   0.00000000e+000   0.00000000e+000   0.00000000e+000   0.00000000e+000\n",
      "   0.00000000e+000   0.00000000e+000   0.00000000e+000   0.00000000e+000\n",
      "   0.00000000e+000   0.00000000e+000   0.00000000e+000   0.00000000e+000\n",
      "   4.54253337e+198]\n",
      "97\n",
      "[  0.00000000e+000  -1.97626258e-323   1.28463076e-316   0.00000000e+000\n",
      "   4.94065646e-324   1.13832725e-319   0.00000000e+000   0.00000000e+000\n",
      "   2.12200844e-314   0.00000000e+000   9.88131292e-324   2.12200717e-314\n",
      "   0.00000000e+000   0.00000000e+000   4.24400436e-314   0.00000000e+000\n",
      "   1.48219694e-323   6.36600078e-314   0.00000000e+000   0.00000000e+000\n",
      "   2.12200857e-314   0.00000000e+000   0.00000000e+000   1.39128886e-320\n",
      "   0.00000000e+000   0.00000000e+000   2.12200857e-314   0.00000000e+000\n",
      "   0.00000000e+000   1.27745613e-319   0.00000000e+000   0.00000000e+000\n",
      "   6.36600394e-314   0.00000000e+000   0.00000000e+000   8.48799455e-314\n",
      "   0.00000000e+000   0.00000000e+000   4.24400423e-314   0.00000000e+000\n",
      "   1.97626258e-323   2.12200857e-314   0.00000000e+000   0.00000000e+000\n",
      "   2.52961611e-320   0.00000000e+000   0.00000000e+000   1.27745613e-319\n",
      "   0.00000000e+000   0.00000000e+000   6.36600002e-314   0.00000000e+000\n",
      "   0.00000000e+000   3.03553933e-320   0.00000000e+000   0.00000000e+000\n",
      "   3.41498174e-320   0.00000000e+000   0.00000000e+000   1.06099903e-313\n",
      "   0.00000000e+000   0.00000000e+000   0.00000000e+000   0.00000000e+000\n",
      "   0.00000000e+000   0.00000000e+000   0.00000000e+000   0.00000000e+000\n",
      "   0.00000000e+000   0.00000000e+000   0.00000000e+000   0.00000000e+000\n",
      "   0.00000000e+000   0.00000000e+000   0.00000000e+000   0.00000000e+000\n",
      "   0.00000000e+000   0.00000000e+000   0.00000000e+000   0.00000000e+000\n",
      "   0.00000000e+000   0.00000000e+000   0.00000000e+000   0.00000000e+000\n",
      "   0.00000000e+000   0.00000000e+000   0.00000000e+000   0.00000000e+000\n",
      "   0.00000000e+000   0.00000000e+000   0.00000000e+000   0.00000000e+000\n",
      "   0.00000000e+000   0.00000000e+000   0.00000000e+000   0.00000000e+000\n",
      "   0.00000000e+000   0.00000000e+000  -0.00000000e+000   0.00000000e+000\n",
      "   4.54253337e+198]\n",
      "101\n"
     ]
    },
    {
     "data": {
      "text/plain": [
       "array([  1.41372813e-316,   6.92195118e-310,   1.92694635e-312,\n",
       "        -1.28434627e-312,   3.20019436e-313,   1.70744147e-315,\n",
       "         5.30490727e-311,  -2.12200559e-310,   3.18301266e-310,\n",
       "        -1.59150665e-310,  -1.59150506e-310,   3.18301076e-310,\n",
       "        -1.06100608e-310,  -3.71350256e-310,   6.36600654e-310,\n",
       "        -2.65250416e-310,  -5.30499969e-310,   9.54900117e-310,\n",
       "        -5.83549864e-310,  -5.30508371e-311,   3.18301285e-310,\n",
       "        -2.12200822e-310,   5.30500750e-311,   2.08693329e-316,\n",
       "         5.30500750e-311,  -2.12200822e-310,   3.18301285e-310,\n",
       "        -2.12200537e-310,   5.30489367e-311,   1.91618420e-315,\n",
       "         1.59148821e-310,  -6.36600075e-310,   9.54900591e-310,\n",
       "        -4.24400531e-310,  -6.89649356e-310,   1.27319918e-309,\n",
       "        -7.42699349e-310,  -2.12200559e-310,   6.36600635e-310,\n",
       "        -3.71350209e-310,  -1.06100751e-310,   3.18301285e-310,\n",
       "        -2.12200793e-310,   5.30499612e-311,   3.79442416e-316,\n",
       "         6.64024228e-317,  -1.21421573e-315,   1.91618420e-315,\n",
       "         1.59148723e-310,  -6.36599683e-310,   9.54900003e-310,\n",
       "        -6.36599926e-310,   1.59149697e-310,   4.55330899e-316,\n",
       "        -2.18179389e-316,  -2.65609691e-316,   5.12247262e-316,\n",
       "         2.65249417e-310,  -1.06099895e-309,   1.59149855e-309,\n",
       "        -1.06099903e-309,   2.65249758e-310,   0.00000000e+000,\n",
       "         0.00000000e+000,   0.00000000e+000,   0.00000000e+000,\n",
       "         0.00000000e+000,   0.00000000e+000,   0.00000000e+000,\n",
       "         0.00000000e+000,   0.00000000e+000,   0.00000000e+000,\n",
       "         0.00000000e+000,   0.00000000e+000,   0.00000000e+000,\n",
       "         0.00000000e+000,   0.00000000e+000,   0.00000000e+000,\n",
       "         0.00000000e+000,   0.00000000e+000,   0.00000000e+000,\n",
       "         0.00000000e+000,   0.00000000e+000,   0.00000000e+000,\n",
       "         0.00000000e+000,   0.00000000e+000,   0.00000000e+000,\n",
       "         0.00000000e+000,   0.00000000e+000,   0.00000000e+000,\n",
       "         0.00000000e+000,   0.00000000e+000,   0.00000000e+000,\n",
       "         0.00000000e+000,   0.00000000e+000,   0.00000000e+000,\n",
       "         0.00000000e+000])"
      ]
     },
     "execution_count": 5,
     "metadata": {},
     "output_type": "execute_result"
    }
   ],
   "source": [
    "# Operator of the fourth derivative acting on v with respect to y \n",
    "def D4_v(N,dy):\n",
    "    D4_v=numpy.empty(N-4)\n",
    "    va=numpy.array([0,-4*v[2]])\n",
    "    vb=numpy.array([-4*v[N-6],0])\n",
    "    print(v)\n",
    "    print(len(v))\n",
    "    v1=numpy.insert(v,0,va,axis=0)\n",
    "    v2=numpy.insert(v1,N-3,vb,axis=0)\n",
    "    print(v2)\n",
    "    print(len(v2))\n",
    "    for i in range(2,N-4):\n",
    "        D4_v[i]=(v2[i-2]-4*v2[i-1]+6*v2[i]-4*v2[i+1]+v2[i+2])/dy**2\n",
    "    return D4_v\n",
    "D4_v(N,dy)"
   ]
  },
  {
   "cell_type": "markdown",
   "metadata": {},
   "source": [
    "**Question 4:** En vous servant des routines précédantes, créer une routine qui permet de construire l'opérateur $L$. Pour information, un nombre complexe en Python peut être créé simplement en utilisant pour le nombre imaginaire $i$ le symbole 1j. Par example, le nombre $3+2i$ s'écrira ``` 3+2*1j ```."
   ]
  },
  {
   "cell_type": "code",
   "execution_count": 6,
   "metadata": {},
   "outputs": [],
   "source": [
    "# Operator L\n",
    "def L_v(N,y,dy,R,alpha):\n",
    "    L_v=(-alpha*1j*(1-(y[i])**2)+alpha*1j*(1-(y[i])**2-2*alpha)+(1/R)*(D2_v-alpha**2))*v\n",
    "    return L"
   ]
  },
  {
   "cell_type": "markdown",
   "metadata": {},
   "source": [
    "**Question 5:** En utilisant un algortihme RK4 dans le temps (https://en.wikipedia.org/wiki/Runge–Kutta_methods#The_Runge–Kutta_method) et un pas de temps de $dt=0.01$, calculer la valeur de ${\\hat v}'$ en $y=0.5$ pour un temps final de $10s$ à partir de la condition initiale suivante,\n",
    "\n",
    "\\begin{align}\n",
    "{\\hat v}'(y) = 0.02*(1+cos(\\pi y))\n",
    "\\end{align}"
   ]
  },
  {
   "cell_type": "markdown",
   "metadata": {},
   "source": [
    "**Question 6:** A partir de l'équation (**), calculer le propagateur $X$ à l'instant $t=10$ pour les mêmes valeurs des paramètres que précédemment: $R=500$ et $\\alpha=0.3$. Utiliser à nouveau un algorithme RK4 dans le temps et un pas de temps $dt=0.01$."
   ]
  },
  {
   "cell_type": "markdown",
   "metadata": {},
   "source": [
    "**Question 7:** Vérifier que le propagateur transforme bien la condition initiale de la question 5 en la solution que vous avez obtenue."
   ]
  },
  {
   "cell_type": "markdown",
   "metadata": {},
   "source": [
    "**Question 8:** En utilisant la fonction disponible dans numpy, effectuer la décomposition singulière du propagateur obtenu à la question 7 et calculer la plus grande des valeurs sigulières. Faire un graphique de la perturbation optimale correspondante (elle correspond au vecteur d'entrée associé à cette plus grande valeur singulière).\n"
   ]
  },
  {
   "cell_type": "markdown",
   "metadata": {},
   "source": [
    "**Question 9:** En faisant varier $\\alpha$ comme paramètre dans le propagateur, écrire un programme qui permet de déterminer la valeur de $\\alpha$ qui permet de maximiser l'amplification des perturbations à l'instant $t=10$ (toujours avec $R=500$) et en utilisant la même résolution et méthode numérique que précédemment."
   ]
  },
  {
   "cell_type": "code",
   "execution_count": null,
   "metadata": {},
   "outputs": [],
   "source": []
  }
 ],
 "metadata": {
  "kernelspec": {
   "display_name": "Python 3",
   "language": "python",
   "name": "python3"
  },
  "language_info": {
   "codemirror_mode": {
    "name": "ipython",
    "version": 3
   },
   "file_extension": ".py",
   "mimetype": "text/x-python",
   "name": "python",
   "nbconvert_exporter": "python",
   "pygments_lexer": "ipython3",
   "version": "3.6.7"
  }
 },
 "nbformat": 4,
 "nbformat_minor": 2
}
