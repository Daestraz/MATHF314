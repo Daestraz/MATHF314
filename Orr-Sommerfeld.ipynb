{
 "cells": [
  {
   "cell_type": "markdown",
   "metadata": {},
   "source": [
    "## Introduction\n",
    "\n",
    "Un sujet important en mécanique des fluides est l'étude de la stabilité des écoulements. De manière générale, on se donne un champ de vitesse du fluide laminaire $\\vec{U}(\\vec{x})$ et on étudie son évolution lorsqu'on lui ajoute des \"petites\" perturbations. Si ces perturbations décroissent systématiquement au cours du temps, l'écoulement sera dit **stable**. Dans le cas contraire, l'écoulement pourrait être **instable** et se transformer en un écoulement turbulent.\n",
    "\n",
    "Par exemple, soit l'écoulement de Poiseuille à 2D. Il correspond au déplacement laminaire d'un fluide entre deux plaques parallèles:\n",
    "\n",
    "\n",
    "\n",
    "En choisissant les unités de manière appropriées, le profil de cet écoulement est donné par\n",
    "$$\\vec{U}(y)=(1-y^2)\\vec{1}_x.$$\n",
    "La vitesse est maximale au centre du canal et nulle sur les parois solides.\n",
    "\n",
    "## Perturbation de l'écoulement de base\n",
    "Ajoutons une perturbation à cet écoulement de base. La vitesse totale de l'écoulement s'écrit alors,\n",
    "\n",
    "$$\\vec{u}(x,y,t)=(1-y^2)\\vec{1}_x + \\vec{u'}(x,y,t)$$ \n",
    "où\n",
    "\\begin{equation*}\n",
    "    \\vec{u}(x,y,t) = \n",
    "            \\begin{cases}\n",
    "               u'(x,y,t)           \\\\\n",
    "               v'(x,y,t)               \n",
    "            \\end{cases}\n",
    "\\end{equation*}\n",
    "\n",
    "est la perturbation. Comme nous faisons l'hypothèse que l'écoulement est incompressible, les deux composantes de la fluctuation ne sont pas indépendantes et sont reliées par,\n",
    "\n",
    "\\begin{align}\n",
    "\\frac{\\partial u'}{\\partial x}+\\frac{\\partial v'}{\\partial y}=0.\n",
    "\\end{align}\n",
    "\n",
    "Si le fluide considéré est un fluide commun comme l'air où l'eau, sa dynamique peut être décrite par les équations de Navier-Stokes. L'analyse de la stabilité de l'écoulement commence alors par la linéarisation de ces équations et il est possible de montrer que dans ce régime linéaire, la perturbation verticale du champ de vitesse obéït à l'équation d'Orr-Sommerfeld:\n",
    "\n",
    "\\begin{align}\n",
    "\\left(\\frac{\\partial}{\\partial t}+U(y)\\frac{\\partial}{\\partial x}\\right)\\nabla^2 v' - U''(y)\\frac{\\partial v}{\\partial x} - \\frac{1}{R}\\nabla^2 \\nabla^2 v' =0 \n",
    "\\end{align}\n",
    "\n",
    "avec comme conditions aux bords $v=\\partial v / \\partial y =0$ en $y=\\pm 1$ et où $\\nabla^2= \\partial^2 / \\partial^2 x^2+ \\partial / \\partial y^2$ et $R$ est le nombre de Reynolds de l'écoulement (paramêtre fixé).\n",
    "\n",
    "Le domaine étant infini dans la direction $x$, on peut toujours exprimer une perturbation comme une somme de modes périodiques monochromatiques (qui correspondent à une seule longueur d'onde). Si l'on se restreint à un seul mode, la perturbation $v'$ prend donc la forme d'un mode monochromatique dans la direction $x$:\n",
    "\n",
    "$$v'(x,y,t)=\\hat{v}'(y,t)e^{i\\alpha x}$$\n",
    "\n",
    "L'équation d'évolution pour $\\hat{v}'$ est alors:\n",
    "\n",
    "\\begin{align}\n",
    "\\frac{\\partial}{\\partial t}(D^2-\\alpha^2)\\hat{v}'&=\\left\\{-i\\alpha U(D^2-\\alpha^2)+i\\alpha U''+\\frac{1}{R}(D^2-\\alpha^2)^2\\right\\}\\hat{v}'\\\\\n",
    "&\\Leftrightarrow\\\\\n",
    "\\frac{\\partial}{\\partial t}\\hat{v}'&=(D^2-\\alpha^2)^{-1}\\left\\{-i\\alpha U(D^2-\\alpha^2)+i\\alpha U''+\\frac{1}{R}(D^2-\\alpha^2)^2\\right\\}\\hat{v}'\n",
    "\\end{align}\n",
    "où le symbole $D=\\frac{d}{dy}$ représente la dérivée par rapport à $y$ et $(D^2-\\alpha^2)^{-1}$ est l'inverse de l'opérateur $D^2-\\alpha^2$.\n",
    "\n",
    "De manière compacte, cette équation peut être écrite sous la forme:\n",
    "\n",
    "\\begin{align}\n",
    "\\frac{\\partial}{\\partial t}\\hat{v}'&=L\\hat{v}'\\quad\\quad (*)\n",
    "\\end{align}\n",
    "avec $L$ l'opérateur linéaire suivant:\n",
    "\n",
    "\\begin{align}\n",
    "L=(D^2-\\alpha^2)^{-1}\\left\\{-i\\alpha U(D^2-\\alpha^2)+i\\alpha U''+\\frac{1}{R}(D^2-\\alpha^2)^2\\right\\}\n",
    "\\end{align}"
   ]
  },
  {
   "cell_type": "markdown",
   "metadata": {},
   "source": [
    "Comme l'équation d'évolution de $\\hat{v}'$ est linéaire, il est aussi possible d'introduire un propagateur qui transforme toute condition initiale $\\hat{v}'(0)$ en la solution à l'instant $\\hat{v}'(t)$,\n",
    "\n",
    "\\begin{align}\n",
    "\\hat{v}'(t)=X(t)\\hat{v}'(0)\n",
    "\\end{align}\n",
    "\n",
    "En utilisant l'équation d'évolution de $\\hat{v}'$ on obtient directement l'équation d'évolution du propagateur:\n",
    "\\begin{align}\n",
    "\\frac{\\partial}{\\partial t}X(t)&=L X(t),\\,\\, \\mathrm{avec}\\;  X(0)=I \\quad\\quad (**) \n",
    "\\end{align}\n",
    "où $I$ est l'identité."
   ]
  },
  {
   "cell_type": "markdown",
   "metadata": {},
   "source": [
    "## Analyse de la stabilité\n",
    "\n",
    "Une des questions fondamentales qui se posent est de savoir si l'amplitude d'une perturbation quelconque va croître avec le temps et quelle est la forme optimale d'une perturbation pour déstabiliser l'écoulement. Ces questions peuvent être analysées en mesurant la norme (l'énergie cinétique dans notre cas) de la perturbation verticale au cours du temps:\n",
    "\n",
    "\\begin{align}\n",
    "{\\cal E}(t)=\\frac{1}{4a}\\int_{-1}^{1}\\int_0^a Re(v'(t))^2 dxdy\n",
    "\\end{align}\n",
    "\n",
    "où $a=2\\pi/\\alpha$ et $Re()$ désigne la partie réelle de $v'$. En utilisant la forme des perturbations choisies (modes monochromatiques) on a alors,\n",
    "\n",
    "\\begin{align}\n",
    "{\\cal E}(t)=\\lVert \\hat{v}^{'*}(t) \\lVert^2 =\\frac{1}{8}\\int_{-1}^{1}\\hat{v}^{'*}(t)\\hat{v}^{'}(t)dy\n",
    "\\end{align}\n",
    "où le symbole $^*$ represente le complexe conjugué."
   ]
  },
  {
   "cell_type": "markdown",
   "metadata": {},
   "source": [
    "Dans l'analyse de stabilité dite non-modale, on cherche la perturbation qui maximise l'amplification de la norme choisie. Par exemple, l'amplification maximale $\\Phi_\\alpha$ possible à un instant $t$ pour un nombre $\\alpha$ donnée est définie par:\n",
    "\n",
    "\\begin{align}\n",
    "\\Phi_\\alpha(t)=\\max_{\\hat{v}^{'}(0)}\\frac{\\lVert \\hat{v}^{'}(t)\\lVert}{\\lVert \\hat{v}^{'}(0)\\lVert}=\\max_{\\hat{v}^{'}(0)}\\frac{\\lVert X(t)\\hat{v}^{'}(0)\\lVert}{\\lVert \\hat{v}^{'}(0)\\lVert}= \\lVert X(t)\\lVert \n",
    "\\end{align}\n"
   ]
  },
  {
   "cell_type": "markdown",
   "metadata": {},
   "source": [
    "La dernière égalité résulte de la définition de la norme du propagateur $X(t)$. Lorsque la norme choisie est la norme $L^2$ comme ici, on peut montrer que la norme du propagateur est égale à sa plus grande valeur singulière. La décomposition d'une matrice à partir de ses valeurs singulières est une généralisation de la décomposition en valeurs propres: https://en.wikipedia.org/wiki/Singular_value_decomposition. Afin de déterminer les valeurs singulières d'une matrice, numpy contient une routine dédiée que nous pouvons utiliser ici. Elle prend la forme (voir manuel de numpy):\n",
    "\n",
    "```u,s,vh = numpy.linalg.svd(X)```\n",
    "\n",
    "$s$ est un vecteur dont les composantes correspondent aux valeurs singulières de la matrice $X(t)$. Par ailleurs, $u$ et $vh$ sont des matrices dont les colonnes correspondent respectivement aux vecteurs \"d'entrée et de sortie\" de la décomposition (modulo une transposition conjuguée pour vh). On a donc les relations:\n",
    "\n",
    "\\begin{align}\n",
    "X\\cdot v[:,i] = s_iu[:,i]\n",
    "\\end{align}\n",
    "\n",
    "où le $\\cdot$ représente la multiplication matricielle et $s_i$ est la $i$-ème valeur singulière."
   ]
  },
  {
   "cell_type": "markdown",
   "metadata": {},
   "source": [
    "## Travail personnel"
   ]
  },
  {
   "cell_type": "markdown",
   "metadata": {},
   "source": [
    "On commence par importer les modules Python nécessaires :"
   ]
  },
  {
   "cell_type": "code",
   "execution_count": 2,
   "metadata": {},
   "outputs": [],
   "source": [
    "import numpy\n",
    "import scipy\n",
    "from scipy import linalg\n",
    "from matplotlib import pyplot\n",
    "%matplotlib inline"
   ]
  },
  {
   "cell_type": "markdown",
   "metadata": {},
   "source": [
    "Afin de résoudre l'équation (*), on peut introduire une grille 1D comme suit :"
   ]
  },
  {
   "cell_type": "code",
   "execution_count": 3,
   "metadata": {},
   "outputs": [],
   "source": [
    "N=101\n",
    "L=1.0\n",
    "y=numpy.linspace(-L,L,N)\n",
    "dy=2*L/(N-1)"
   ]
  },
  {
   "cell_type": "markdown",
   "metadata": {},
   "source": [
    "# **Question 1:**\n",
    "\n",
    "Pour $\\hat{v}'$, le problème contient 4 conditions aux bords. Les conditions du type Dirichlet se traduisent par: v[0]=0 et v[N-1]=0.\n",
    "\n",
    "En vous servant du lien, https://en.wikipedia.org/wiki/Finite_difference_coefficient, déterminer comment se traduisent les conditions du type von Neumann $\\frac{\\partial v}{\\partial y}(y=-1)=\\frac{\\partial v}{\\partial y}(y=1)=0$ si on adopte une \"forward finite difference\" du second ordre pour la dérivée première sur le bord $y=-1$ et une \"backward finite difference\" du second ordre pour la dérivée première sur le bord $y=1$."
   ]
  },
  {
   "cell_type": "markdown",
   "metadata": {},
   "source": [
    "Les conditions du type von Neumann se traduisent comme\n",
    "\n",
    "\\begin{align}\n",
    "    \\frac{d \\hat{v}'}{dy}(y=-1) \\approx & \\frac{-3/2 \\hat{v}'[0] + 2 \\hat{v}'[1] - 1/2 \\hat{v}'[2]}{h} = 0\\\\\n",
    "    \\frac{d \\hat{v}'}{dy}(y=+1) \\approx & \\frac{3/2 \\hat{v}'[100] - 2 \\hat{v}'[99] + 1/2 \\hat{v}'[98]}{h} = 0\n",
    "\\end{align}\n",
    "\n"
   ]
  },
  {
   "cell_type": "markdown",
   "metadata": {},
   "source": [
    "De plus, par les conditions de Dirichlet les termes de bord en [100] et en [0] sont nuls. Ce qui nous ramène à\n",
    "\n",
    "\\begin{align}\n",
    "    \\hat{v}'[1] = & - \\frac{1}{4} \\hat{v}'[2]\\\\\n",
    "    \\hat{v}'[99] = & - \\frac{1}{4} \\hat{v}'[98]\n",
    "\\end{align}"
   ]
  },
  {
   "cell_type": "markdown",
   "metadata": {},
   "source": [
    "De la question précédente, on déduit que la discrétisation de $\\hat{v}'$ ne contient que $N-4$ valeurs indépendantes et qu'on peut dès lors définir numériquement:"
   ]
  },
  {
   "cell_type": "code",
   "execution_count": 27,
   "metadata": {},
   "outputs": [],
   "source": [
    "v=numpy.empty(N-4)"
   ]
  },
  {
   "cell_type": "markdown",
   "metadata": {},
   "source": [
    "Ces  dernières conditions supplées des conditions de type Dirichlet fournissent 4 facteurs fixés, permettant de réduire le nombre de paramètre indépendant à $N-4$."
   ]
  },
  {
   "cell_type": "markdown",
   "metadata": {},
   "source": [
    "**Question 2:** En tenant compte de votre réponse à la question 1, compléter la routine suivante afin qu'elle retourne une discrétisation de l'opérateur $D^2$ du type \"central finite difference\" valable à l'ordre 2 et qui agit sur les valeurs indépendantes de ${\\hat v}'$."
   ]
  },
  {
   "cell_type": "code",
   "execution_count": 35,
   "metadata": {},
   "outputs": [
    {
     "name": "stdout",
     "output_type": "stream",
     "text": [
      "[ 1.00246276e-311  1.00246248e-311  2.50609551e-308 -1.06915806e-312\n",
      "  8.63626749e-313 -4.88136858e-313  6.66000491e-313 -1.03358533e-312\n",
      "  8.42381926e-313  4.97306716e-311 -1.99516553e-310  2.98729876e-310\n",
      " -1.98849071e-310  4.94609118e-311  5.07899484e-313 -6.16593926e-313\n",
      "  5.63234836e-313 -8.31018416e-313  1.11658836e-312 -6.58095440e-313\n",
      " -1.30433331e-313  1.99602521e-313  3.20154539e-313  3.19759286e-312\n",
      " -1.42389719e-311  2.11796061e-311 -1.36954997e-311  4.63394051e-311\n",
      "  1.08945625e-309 -3.10766698e-309  2.02646756e-309  1.02821583e-309\n",
      " -1.32607368e-309 -1.42192093e-311  4.31211603e-310 -7.01953648e-311\n",
      " -1.95797721e-310  5.15248216e-310 -1.67988199e-309  2.52498128e-309\n",
      " -1.60064522e-309  1.59299610e-310  2.68515291e-310 -1.06971635e-310\n",
      " -5.61515488e-311  2.42110941e-310 -1.67811867e-310 -2.75407507e-310\n",
      "  5.43708374e-310 -3.79589648e-310  1.57735892e-310  3.25018615e-310\n",
      " -1.49113360e-309  2.15703824e-309 -1.40944824e-309  6.41632679e-310\n",
      " -1.16597417e-309  1.97078389e-309 -2.70445161e-309  5.67135880e-309\n",
      " -8.92842234e-309  7.33369256e-309 -2.81755164e-309 -9.03521562e-310\n",
      "  3.68746685e-309 -1.87449494e-309 -4.26855129e-309  5.96660749e-309\n",
      " -2.38056836e-309  4.68879661e-310 -1.58724913e-309  2.51683068e-309\n",
      " -1.67755840e-309  4.20688498e-310  4.23319398e-310 -1.69032901e-309\n",
      "  2.53236706e-309 -1.70784265e-309  4.77089550e-310  2.64546363e-309\n",
      " -8.07560822e-309  8.09227750e-309 -2.69744230e-309  4.69362364e-314\n",
      " -3.93615628e-309  1.57444670e-308 -2.36166783e-308  1.57402561e-308\n",
      " -7.85543923e-309  1.57192484e-308 -2.36012318e-308  1.18096739e-308\n",
      "  1.17985801e-308 -2.36068889e-308  6.26705063e-305  9.45956265e-076\n",
      "  9.89803615e+164]\n",
      "97\n",
      "[-1.00243821e-307  1.00246276e-311  1.00246248e-311  2.50609551e-308\n",
      " -1.06915806e-312  8.63626749e-313 -4.88136858e-313  6.66000491e-313\n",
      " -1.03358533e-312  8.42381926e-313  4.97306716e-311 -1.99516553e-310\n",
      "  2.98729876e-310 -1.98849071e-310  4.94609118e-311  5.07899484e-313\n",
      " -6.16593926e-313  5.63234836e-313 -8.31018416e-313  1.11658836e-312\n",
      " -6.58095440e-313 -1.30433331e-313  1.99602521e-313  3.20154539e-313\n",
      "  3.19759286e-312 -1.42389719e-311  2.11796061e-311 -1.36954997e-311\n",
      "  4.63394051e-311  1.08945625e-309 -3.10766698e-309  2.02646756e-309\n",
      "  1.02821583e-309 -1.32607368e-309 -1.42192093e-311  4.31211603e-310\n",
      " -7.01953648e-311 -1.95797721e-310  5.15248216e-310 -1.67988199e-309\n",
      "  2.52498128e-309 -1.60064522e-309  1.59299610e-310  2.68515291e-310\n",
      " -1.06971635e-310 -5.61515488e-311  2.42110941e-310 -1.67811867e-310\n",
      " -2.75407507e-310  5.43708374e-310 -3.79589648e-310  1.57735892e-310\n",
      "  3.25018615e-310 -1.49113360e-309  2.15703824e-309 -1.40944824e-309\n",
      "  6.41632679e-310 -1.16597417e-309  1.97078389e-309 -2.70445161e-309\n",
      "  5.67135880e-309 -8.92842234e-309  7.33369256e-309 -2.81755164e-309\n",
      " -9.03521562e-310  3.68746685e-309 -1.87449494e-309 -4.26855129e-309\n",
      "  5.96660749e-309 -2.38056836e-309  4.68879661e-310 -1.58724913e-309\n",
      "  2.51683068e-309 -1.67755840e-309  4.20688498e-310  4.23319398e-310\n",
      " -1.69032901e-309  2.53236706e-309 -1.70784265e-309  4.77089550e-310\n",
      "  2.64546363e-309 -8.07560822e-309  8.09227750e-309 -2.69744230e-309\n",
      "  4.69362364e-314 -3.93615628e-309  1.57444670e-308 -2.36166783e-308\n",
      "  1.57402561e-308 -7.85543923e-309  1.57192484e-308 -2.36012318e-308\n",
      "  1.18096739e-308  1.17985801e-308 -2.36068889e-308  6.26705063e-305\n",
      "  9.45956265e-076  9.89803615e+164 -3.78382506e-075]\n",
      "99\n"
     ]
    },
    {
     "data": {
      "text/plain": [
       "array([ 1.00246276e-311,  1.00246248e-311,  6.26273263e-305,\n",
       "       -1.25282387e-304,  6.26598927e-305, -8.21137103e-309,\n",
       "        6.26475239e-309, -7.13430793e-309,  8.93888270e-309,\n",
       "        1.17530806e-307, -7.45338787e-307,  1.86873414e-306,\n",
       "       -2.48956344e-306,  1.86472232e-306, -7.43157487e-307,\n",
       "        1.19571297e-307,  5.76080543e-309, -6.43520504e-309,\n",
       "        8.35465007e-309, -9.30572644e-309,  5.75586477e-309,\n",
       "       -4.94065646e-310, -5.23709585e-310,  6.89221576e-309,\n",
       "       -5.07850077e-308,  1.32137857e-307, -1.75734210e-307,\n",
       "        2.37275026e-307,  2.45770485e-306, -1.31006002e-305,\n",
       "        2.33281444e-305, -1.53309657e-305, -3.39009442e-306,\n",
       "        9.16535992e-306, -2.16605914e-306, -2.36709445e-306,\n",
       "        9.39511527e-307,  2.09162074e-306, -7.26544036e-306,\n",
       "        1.59999837e-305, -2.08262244e-305,  1.47139283e-305,\n",
       "       -4.12682288e-306, -1.21175652e-306,  1.06576753e-306,\n",
       "        6.18606008e-307, -1.77046324e-306,  7.55817920e-307,\n",
       "        2.31677880e-306, -4.35603476e-306,  3.65155890e-306,\n",
       "       -9.25107043e-307, -4.95858734e-306,  1.36608101e-305,\n",
       "       -1.80366458e-305,  1.40439185e-305, -9.64671943e-306,\n",
       "        1.23609123e-305, -1.95299839e-305,  3.26276148e-305,\n",
       "       -5.74389789e-305,  7.71547401e-305, -6.60333978e-305,\n",
       "        3.01631857e-305,  6.69239585e-306, -2.53823755e-305,\n",
       "        7.91976361e-306,  3.15730378e-305, -4.64558366e-305,\n",
       "        2.79915597e-305, -1.22639420e-305,  1.54005215e-305,\n",
       "       -2.07461722e-305,  1.57315899e-305, -5.23903999e-306,\n",
       "       -5.29069826e-306,  1.58408612e-305, -2.11572645e-305,\n",
       "        1.60628548e-305, -4.13952901e-308, -3.22236148e-305,\n",
       "        6.72223939e-305, -6.73940138e-305,  3.37180226e-305,\n",
       "       -1.65842311e-305,  5.90420663e-305, -1.47604421e-304,\n",
       "        1.96795199e-304, -1.57381574e-304,  1.17925957e-304,\n",
       "       -1.57237920e-304,  1.86828465e-304, -8.85549986e-305,\n",
       "       -8.84859381e-305,  1.56823797e-301,  2.36489066e-072,\n",
       "        2.47450904e+168])"
      ]
     },
     "execution_count": 35,
     "metadata": {},
     "output_type": "execute_result"
    }
   ],
   "source": [
    "# Operator of the second derivative acting on v with respect to y \n",
    "\n",
    "def D2_v(N,dy):\n",
    "    D2_v=numpy.empty(N-4)\n",
    "    va=-4*v[2]\n",
    "    vb=-4*v[N-6]\n",
    "    print(v)\n",
    "    print(len(v))\n",
    "    v1=numpy.insert(v,0,va,axis=0)\n",
    "    v2=numpy.insert(v1,N-3,vb,axis=0)\n",
    "    print(v2)\n",
    "    print(len(v2))\n",
    "    for i in range(2,N-4):\n",
    "        D2_v[i]=(v2[i-1]-2*v2[i]+v2[i+1])/dy**2\n",
    "    return D2_v\n",
    "D2_v(N,dy)"
   ]
  },
  {
   "cell_type": "markdown",
   "metadata": {},
   "source": [
    "**Question 3:** Faites de même pour l'opérateur de dérivée 4ème, $D^4 = \\frac{\\partial^4}{\\partial y^4}$ en complétant la routine suivante afin qu'elle retourne une discrétisation de l'opérateur $D^4$ du type \"central finite difference\" valable à l'ordre 2 et qui agit sur les valeurs indépendantes de ${\\hat v}'$."
   ]
  },
  {
   "cell_type": "code",
   "execution_count": 5,
   "metadata": {},
   "outputs": [],
   "source": [
    "# Operator of the fourth derivative acting on v with respect to y \n",
    "def D4_v(N,dy):\n",
    "\n",
    "    return D4_v"
   ]
  },
  {
   "cell_type": "markdown",
   "metadata": {},
   "source": [
    "**Question 4:** En vous servant des routines précédantes, créer une routine qui permet de construire l'opérateur $L$. Pour information, un nombre complexe en Python peut être créé simplement en utilisant pour le nombre imaginaire $i$ le symbole 1j. Par example, le nombre $3+2i$ s'écrira ``` 3+2*1j ```."
   ]
  },
  {
   "cell_type": "code",
   "execution_count": 6,
   "metadata": {},
   "outputs": [],
   "source": [
    "# Operator L\n",
    "def L_v(N,y,dy,R,alpha):\n",
    "\n",
    "    return L"
   ]
  },
  {
   "cell_type": "markdown",
   "metadata": {},
   "source": [
    "**Question 5:** En utilisant un algortihme RK4 dans le temps (https://en.wikipedia.org/wiki/Runge–Kutta_methods#The_Runge–Kutta_method) et un pas de temps de $dt=0.01$, calculer la valeur de ${\\hat v}'$ en $y=0.5$ pour un temps final de $10s$ à partir de la condition initiale suivante,\n",
    "\n",
    "\\begin{align}\n",
    "{\\hat v}'(y) = 0.02*(1+cos(\\pi y))\n",
    "\\end{align}"
   ]
  },
  {
   "cell_type": "markdown",
   "metadata": {},
   "source": [
    "**Question 6:** A partir de l'équation (**), calculer le propagateur $X$ à l'instant $t=10$ pour les mêmes valeurs des paramètres que précédemment: $R=500$ et $\\alpha=0.3$. Utiliser à nouveau un algorithme RK4 dans le temps et un pas de temps $dt=0.01$."
   ]
  },
  {
   "cell_type": "markdown",
   "metadata": {},
   "source": [
    "**Question 7:** Vérifier que le propagateur transforme bien la condition initiale de la question 5 en la solution que vous avez obtenue."
   ]
  },
  {
   "cell_type": "markdown",
   "metadata": {},
   "source": [
    "**Question 8:** En utilisant la fonction disponible dans numpy, effectuer la décomposition singulière du propagateur obtenu à la question 7 et calculer la plus grande des valeurs sigulières. Faire un graphique de la perturbation optimale correspondante (elle correspond au vecteur d'entrée associé à cette plus grande valeur singulière).\n"
   ]
  },
  {
   "cell_type": "markdown",
   "metadata": {},
   "source": [
    "**Question 9:** En faisant varier $\\alpha$ comme paramètre dans le propagateur, écrire un programme qui permet de déterminer la valeur de $\\alpha$ qui permet de maximiser l'amplification des perturbations à l'instant $t=10$ (toujours avec $R=500$) et en utilisant la même résolution et méthode numérique que précédemment."
   ]
  },
  {
   "cell_type": "code",
   "execution_count": null,
   "metadata": {},
   "outputs": [],
   "source": []
  }
 ],
 "metadata": {
  "kernelspec": {
   "display_name": "Python 3",
   "language": "python",
   "name": "python3"
  },
  "language_info": {
   "codemirror_mode": {
    "name": "ipython",
    "version": 3
   },
   "file_extension": ".py",
   "mimetype": "text/x-python",
   "name": "python",
   "nbconvert_exporter": "python",
   "pygments_lexer": "ipython3",
   "version": "3.7.4"
  }
 },
 "nbformat": 4,
 "nbformat_minor": 2
}
