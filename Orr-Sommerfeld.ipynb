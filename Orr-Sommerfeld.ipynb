{
 "cells": [
  {
   "cell_type": "markdown",
   "metadata": {},
   "source": [
    "## Introduction\n",
    "\n",
    "Un sujet important en mécanique des fluides est l'étude de la stabilité des écoulements. De manière générale, on se donne un champ de vitesse du fluide laminaire $\\vec{U}(\\vec{x})$ et on étudie son évolution lorsqu'on lui ajoute des \"petites\" perturbations. Si ces perturbations décroissent systématiquement au cours du temps, l'écoulement sera dit **stable**. Dans le cas contraire, l'écoulement pourrait être **instable** et se transformer en un écoulement turbulent.\n",
    "\n",
    "Par exemple, soit l'écoulement de Poiseuille à 2D. Il correspond au déplacement laminaire d'un fluide entre deux plaques parallèles:\n",
    "\n",
    "\n",
    "\n",
    "En choisissant les unités de manière appropriées, le profil de cet écoulement est donné par\n",
    "$$\\vec{U}(y)=(1-y^2)\\vec{1}_x.$$\n",
    "La vitesse est maximale au centre du canal et nulle sur les parois solides.\n",
    "\n",
    "## Perturbation de l'écoulement de base\n",
    "Ajoutons une perturbation à cet écoulement de base. La vitesse totale de l'écoulement s'écrit alors,\n",
    "\n",
    "$$\\vec{u}(x,y,t)=(1-y^2)\\vec{1}_x + \\vec{u'}(x,y,t)$$ \n",
    "où\n",
    "\\begin{equation*}\n",
    "    \\vec{u'}(x,y,t) = \n",
    "            \\begin{cases}\n",
    "               u'(x,y,t)           \\\\\n",
    "               v'(x,y,t)               \n",
    "            \\end{cases}\n",
    "\\end{equation*}\n",
    "\n",
    "est la perturbation. Comme nous faisons l'hypothèse que l'écoulement est incompressible, les deux composantes de la fluctuation ne sont pas indépendantes et sont reliées par,\n",
    "\n",
    "\\begin{align}\n",
    "\\frac{\\partial u'}{\\partial x}+\\frac{\\partial v'}{\\partial y}=0.\n",
    "\\end{align}\n",
    "\n",
    "Si le fluide considéré est un fluide commun comme l'air où l'eau, sa dynamique peut être décrite par les équations de Navier-Stokes. L'analyse de la stabilité de l'écoulement commence alors par la linéarisation de ces équations et il est possible de montrer que dans ce régime linéaire, la perturbation verticale du champ de vitesse obéït à l'équation d'Orr-Sommerfeld:\n",
    "\n",
    "\\begin{align}\n",
    "\\left(\\frac{\\partial}{\\partial t}+U(y)\\frac{\\partial}{\\partial x}\\right)\\nabla^2 v' - U''(y)\\frac{\\partial v}{\\partial x} - \\frac{1}{R}\\nabla^2 \\nabla^2 v' =0 \n",
    "\\end{align}\n",
    "\n",
    "avec comme conditions aux bords $v=\\partial v / \\partial y =0$ en $y=\\pm 1$ et où $\\nabla^2= \\partial^2 / \\partial^2 x^2+ \\partial / \\partial y^2$ et $R$ est le nombre de Reynolds de l'écoulement (paramêtre fixé).\n",
    "\n",
    "Le domaine étant infini dans la direction $x$, on peut toujours exprimer une perturbation comme une somme de modes périodiques monochromatiques (qui correspondent à une seule longueur d'onde). Si l'on se restreint à un seul mode, la perturbation $v'$ prend donc la forme d'un mode monochromatique dans la direction $x$:\n",
    "\n",
    "$$v'(x,y,t)=\\hat{v}'(y,t)e^{i\\alpha x}$$\n",
    "\n",
    "L'équation d'évolution pour $\\hat{v}'$ est alors:\n",
    "\n",
    "\\begin{align}\n",
    "\\frac{\\partial}{\\partial t}(D^2-\\alpha^2)\\hat{v}'&=\\left\\{-i\\alpha U(D^2-\\alpha^2)+i\\alpha U''+\\frac{1}{R}(D^2-\\alpha^2)^2\\right\\}\\hat{v}'\\\\\n",
    "&\\Leftrightarrow\\\\\n",
    "\\frac{\\partial}{\\partial t}\\hat{v}'&=(D^2-\\alpha^2)^{-1}\\left\\{-i\\alpha U(D^2-\\alpha^2)+i\\alpha U''+\\frac{1}{R}(D^2-\\alpha^2)^2\\right\\}\\hat{v}'\n",
    "\\end{align}\n",
    "où le symbole $D=\\frac{d}{dy}$ représente la dérivée par rapport à $y$ et $(D^2-\\alpha^2)^{-1}$ est l'inverse de l'opérateur $D^2-\\alpha^2$.\n",
    "\n",
    "De manière compacte, cette équation peut être écrite sous la forme:\n",
    "\n",
    "\\begin{align}\n",
    "\\frac{\\partial}{\\partial t}\\hat{v}'&=L\\hat{v}'\\quad\\quad (*)\n",
    "\\end{align}\n",
    "avec $L$ l'opérateur linéaire suivant:\n",
    "\n",
    "\\begin{align}\n",
    "L=(D^2-\\alpha^2)^{-1}\\left\\{-i\\alpha U(D^2-\\alpha^2)+i\\alpha U''+\\frac{1}{R}(D^2-\\alpha^2)^2\\right\\}\n",
    "\\end{align}"
   ]
  },
  {
   "cell_type": "markdown",
   "metadata": {},
   "source": [
    "Comme l'équation d'évolution de $\\hat{v}'$ est linéaire, il est aussi possible d'introduire un propagateur qui transforme toute condition initiale $\\hat{v}'(0)$ en la solution à l'instant $\\hat{v}'(t)$,\n",
    "\n",
    "\\begin{align}\n",
    "\\hat{v}'(t)=X(t)\\hat{v}'(0)\n",
    "\\end{align}\n",
    "\n",
    "En utilisant l'équation d'évolution de $\\hat{v}'$ on obtient directement l'équation d'évolution du propagateur:\n",
    "\\begin{align}\n",
    "\\frac{\\partial}{\\partial t}X(t)&=L X(t),\\,\\, \\mathrm{avec}\\;  X(0)=I \\quad\\quad (**) \n",
    "\\end{align}\n",
    "où $I$ est l'identité."
   ]
  },
  {
   "cell_type": "markdown",
   "metadata": {},
   "source": [
    "## Analyse de la stabilité\n",
    "\n",
    "Une des questions fondamentales qui se posent est de savoir si l'amplitude d'une perturbation quelconque va croître avec le temps et quelle est la forme optimale d'une perturbation pour déstabiliser l'écoulement. Ces questions peuvent être analysées en mesurant la norme (l'énergie cinétique dans notre cas) de la perturbation verticale au cours du temps:\n",
    "\n",
    "\\begin{align}\n",
    "{\\cal E}(t)=\\frac{1}{4a}\\int_{-1}^{1}\\int_0^a Re(v'(t))^2 dxdy\n",
    "\\end{align}\n",
    "\n",
    "où $a=2\\pi/\\alpha$ et $Re()$ désigne la partie réelle de $v'$. En utilisant la forme des perturbations choisies (modes monochromatiques) on a alors,\n",
    "\n",
    "\\begin{align}\n",
    "{\\cal E}(t)=\\lVert \\hat{v}^{'*}(t) \\lVert^2 =\\frac{1}{8}\\int_{-1}^{1}\\hat{v}^{'*}(t)\\hat{v}^{'}(t)dy\n",
    "\\end{align}\n",
    "où le symbole $^*$ represente le complexe conjugué."
   ]
  },
  {
   "cell_type": "markdown",
   "metadata": {},
   "source": [
    "Dans l'analyse de stabilité dite non-modale, on cherche la perturbation qui maximise l'amplification de la norme choisie. Par exemple, l'amplification maximale $\\Phi_\\alpha$ possible à un instant $t$ pour un nombre $\\alpha$ donnée est définie par:\n",
    "\n",
    "\\begin{align}\n",
    "\\Phi_\\alpha(t)=\\max_{\\hat{v}^{'}(0)}\\frac{\\lVert \\hat{v}^{'}(t)\\lVert}{\\lVert \\hat{v}^{'}(0)\\lVert}=\\max_{\\hat{v}^{'}(0)}\\frac{\\lVert X(t)\\hat{v}^{'}(0)\\lVert}{\\lVert \\hat{v}^{'}(0)\\lVert}= \\lVert X(t)\\lVert \n",
    "\\end{align}\n"
   ]
  },
  {
   "cell_type": "markdown",
   "metadata": {},
   "source": [
    "La dernière égalité résulte de la définition de la norme du propagateur $X(t)$. Lorsque la norme choisie est la norme $L^2$ comme ici, on peut montrer que la norme du propagateur est égale à sa plus grande valeur singulière. La décomposition d'une matrice à partir de ses valeurs singulières est une généralisation de la décomposition en valeurs propres: https://en.wikipedia.org/wiki/Singular_value_decomposition. Afin de déterminer les valeurs singulières d'une matrice, numpy contient une routine dédiée que nous pouvons utiliser ici. Elle prend la forme (voir manuel de numpy):\n",
    "\n",
    "```u,s,vh = numpy.linalg.svd(X)```\n",
    "\n",
    "$s$ est un vecteur dont les composantes correspondent aux valeurs singulières de la matrice $X(t)$. Par ailleurs, $u$ et $v$ sont des matrices dont les colonnes correspondent respectivement aux vecteurs \"d'entrée et de sortie\" de la décomposition (attention, la matrice vh donnée par la routine est la transposée conjuguée de $v$). On a donc les relations:\n",
    "\n",
    "\\begin{align}\n",
    "X\\cdot v[:,i] = s_iu[:,i]\n",
    "\\end{align}\n",
    "\n",
    "où le $\\cdot$ représente la multiplication matricielle et $s_i$ est la $i$-ème valeur singulière."
   ]
  },
  {
   "cell_type": "markdown",
   "metadata": {},
   "source": [
    "## Travail personnel"
   ]
  },
  {
   "cell_type": "markdown",
   "metadata": {},
   "source": [
    "On commence par importer les modules Python nécessaires :"
   ]
  },
  {
   "cell_type": "code",
   "execution_count": 1,
   "metadata": {},
   "outputs": [],
   "source": [
    "import numpy as np\n",
    "import scipy as sc\n",
    "from scipy import linalg\n",
    "from matplotlib import pyplot\n",
    "%matplotlib inline"
   ]
  },
  {
   "cell_type": "markdown",
   "metadata": {},
   "source": [
    "Afin de résoudre l'équation (*), on peut introduire une grille 1D comme suit :"
   ]
  },
  {
   "cell_type": "code",
   "execution_count": 2,
   "metadata": {},
   "outputs": [],
   "source": [
    "N=101\n",
    "L=1.0\n",
    "y=np.linspace(-L,L,N)\n",
    "dy=2*L/(N-1)"
   ]
  },
  {
   "cell_type": "markdown",
   "metadata": {},
   "source": [
    "**Question 1: (2 points)**\n",
    "\n",
    "Pour $\\hat{v}'$, le problème contient 4 conditions aux bords. Les conditions du type Dirichlet se traduisent par: v[0]=0 et v[N-1]=0.\n",
    "\n",
    "En vous servant du lien, https://en.wikipedia.org/wiki/Finite_difference_coefficient, déterminer comment se traduisent les conditions du type von Neumann $\\frac{\\partial v}{\\partial y}(y=-1)=\\frac{\\partial v}{\\partial y}(y=1)=0$ si on adopte une \"forward finite difference\" du second ordre pour la dérivée première sur le bord $y=-1$ et une \"backward finite difference\" du second ordre pour la dérivée première sur le bord $y=1$."
   ]
  },
  {
   "cell_type": "markdown",
   "metadata": {},
   "source": [
    "*Les conditions du type von Neumann se traduisent comme*\n",
    "\n",
    "\\begin{align}\n",
    "    \\frac{d \\hat{v}'}{dy}(y=-1) \\approx & \\frac{-3/2 \\hat{v}'[0] + 2 \\hat{v}'[1] - 1/2 \\hat{v}'[2]}{h} = 0\\\\\n",
    "    \\frac{d \\hat{v}'}{dy}(y=+1) \\approx & \\frac{3/2 \\hat{v}'[100] - 2 \\hat{v}'[99] + 1/2 \\hat{v}'[98]}{h} = 0\n",
    "\\end{align}"
   ]
  },
  {
   "cell_type": "markdown",
   "metadata": {},
   "source": [
    "De la question précédente, on déduit que la discrétisation de $\\hat{v}'$ ne contient que $N-4$ valeurs indépendantes et qu'on peut dès lors définir numériquement:"
   ]
  },
  {
   "cell_type": "code",
   "execution_count": 3,
   "metadata": {},
   "outputs": [],
   "source": [
    "v=np.empty(N-4)"
   ]
  },
  {
   "cell_type": "markdown",
   "metadata": {},
   "source": [
    "**Question 2: (3 points)**\n",
    "\n",
    "En tenant compte de votre réponse à la question 1, compléter la routine suivante afin qu'elle retourne une discrétisation de l'opérateur $D^2$ du type \"central finite difference\" valable à l'ordre 2 et qui agit sur les valeurs indépendantes de ${\\hat v}'$."
   ]
  },
  {
   "cell_type": "code",
   "execution_count": 5,
   "metadata": {},
   "outputs": [
    {
     "data": {
      "text/plain": [
       "array([[-4375.,  2500.,     0., ...,     0.,     0.,     0.],\n",
       "       [ 2500., -5000.,  2500., ...,     0.,     0.,     0.],\n",
       "       [    0.,  2500., -5000., ...,     0.,     0.,     0.],\n",
       "       ..., \n",
       "       [    0.,     0.,     0., ..., -5000.,  2500.,     0.],\n",
       "       [    0.,     0.,     0., ...,  2500., -5000.,  2500.],\n",
       "       [    0.,     0.,     0., ...,     0.,  2500., -4375.]])"
      ]
     },
     "execution_count": 5,
     "metadata": {},
     "output_type": "execute_result"
    }
   ],
   "source": [
    "# Operator of the second derivative acting on v with respect to y \n",
    "def D2_v(N,dy):\n",
    "    #--------------------------------------- Nos 3 \"diagonales\"\n",
    "    D0=np.diag(np.ones(N-5),k=-1)\n",
    "    D1=-2*np.diag(np.ones(N-4))\n",
    "    D2=D0+D1+np.diag(np.ones(N-5), k=1)\n",
    "    #--------------------------------------- Définissons D2_v\n",
    "    D2_v=D2/(dy**2)\n",
    "    #--------------------------------------- Il nous reste plus qu'à adapter les valeurs sur les bords\n",
    "    D2_v[0,0], D2_v[-1,-1] = (-7/4)/dy**2, (-7/4)/dy**2\n",
    "    return D2_v\n",
    "D2_v(N,dy)"
   ]
  },
  {
   "cell_type": "markdown",
   "metadata": {},
   "source": [
    "**Question 3: (3 points)** \n",
    "\n",
    "Faites de même pour l'opérateur de dérivée 4ème, $D^4 = \\frac{\\partial^4}{\\partial y^4}$ en complétant la routine suivante afin qu'elle retourne une discrétisation de l'opérateur $D^4$ du type \"central finite difference\" valable à l'ordre 2 et qui agit sur les valeurs indépendantes de ${\\hat v}'$."
   ]
  },
  {
   "cell_type": "code",
   "execution_count": 19,
   "metadata": {},
   "outputs": [
    {
     "data": {
      "text/plain": [
       "array([[ 31250000., -25000000.,   6250000., ...,         0.,         0.,\n",
       "                0.],\n",
       "       [-23437500.,  37500000., -25000000., ...,         0.,         0.,\n",
       "                0.],\n",
       "       [  6250000., -25000000.,  37500000., ...,         0.,         0.,\n",
       "                0.],\n",
       "       ..., \n",
       "       [        0.,         0.,         0., ...,  37500000., -25000000.,\n",
       "          6250000.],\n",
       "       [        0.,         0.,         0., ..., -25000000.,  37500000.,\n",
       "        -23437500.],\n",
       "       [        0.,         0.,         0., ...,   6250000., -25000000.,\n",
       "         31250000.]])"
      ]
     },
     "execution_count": 19,
     "metadata": {},
     "output_type": "execute_result"
    }
   ],
   "source": [
    "# Operator of the fourth derivative acting on v with respect to y \n",
    "def D4_v(N,dy):\n",
    "    #--------------------------------------- Nos 5 \"diagonales\"\n",
    "    D0=np.diag(np.ones(N-6),k=-2)\n",
    "    D1=-4*np.diag(np.ones(N-5),k=-1)\n",
    "    D2=6*np.diag(np.ones(N-4))\n",
    "    D3=-4*np.diag(np.ones(N-5),k=1)\n",
    "    D4=D0+D1+D2+D3+np.diag(np.ones(N-6),k=2)\n",
    "    #--------------------------------------- Définissons D4_v\n",
    "    D4_v=D4/dy**4\n",
    "    #--------------------------------------- Il nous reste plus qu'à adapter les valeurs sur les bords\n",
    "    D4_v[0,0], D4_v[1,0], D4_v[-2,-1], D4_v[-1,-1]= 5/dy**4, (-15/4)/dy**4, (-15/4)/dy**4, 5/dy**4\n",
    "    return D4_v\n",
    "D4_v(N,dy)"
   ]
  },
  {
   "cell_type": "markdown",
   "metadata": {},
   "source": [
    "**Question 4: (4 points)** \n",
    "\n",
    "En vous servant des routines précédantes, créer une routine qui permet de construire l'opérateur $L$. Pour information, un nombre complexe en Python peut être créé simplement en utilisant pour le nombre imaginaire $i$ le symbole 1j. Par example, le nombre $3+2i$ s'écrira ``` 3+2*1j ```."
   ]
  },
  {
   "cell_type": "code",
   "execution_count": 14,
   "metadata": {
    "scrolled": false
   },
   "outputs": [
    {
     "name": "stdout",
     "output_type": "stream",
     "text": [
      "[[ 6. -4.  1. ...,  0.  0.  0.]\n",
      " [-4.  6. -4. ...,  0.  0.  0.]\n",
      " [ 1. -4.  6. ...,  0.  0.  0.]\n",
      " ..., \n",
      " [ 0.  0.  0. ...,  6. -4.  1.]\n",
      " [ 0.  0.  0. ..., -4.  6. -4.]\n",
      " [ 0.  0.  0. ...,  1. -4.  6.]]\n"
     ]
    },
    {
     "data": {
      "text/plain": [
       "array([[ -1.49063249e+01-0.00840371j,   6.64163865e+00-0.00033719j,\n",
       "          0.00000000e+00-0.00032899j, ...,   1.59594560e-15+0.0002817j ,\n",
       "          2.12593071e-02+0.00028779j,  -7.97224015e-02+0.00034339j],\n",
       "       [ -1.08597526e+00+0.02621405j,  -8.37725326e+00-0.0241101j ,\n",
       "          5.00000000e+00-0.00057575j, ...,   2.91433544e-15+0.00049298j,\n",
       "          3.72045527e-02+0.00050365j,  -1.39517073e-01+0.00060094j],\n",
       "       [ -6.01602468e+00+0.02591275j,   6.60427325e+00+0.02171739j,\n",
       "         -1.00001800e+01-0.03574252j, ...,   3.96904731e-15+0.00070428j,\n",
       "          5.31511377e-02+0.00071952j,  -1.99316766e-01+0.00085851j],\n",
       "       ..., \n",
       "       [ -1.99316766e-01+0.00085851j,   5.31511377e-02+0.00071952j,\n",
       "          1.55431223e-15+0.00070428j, ...,  -1.00001800e+01-0.03574252j,\n",
       "          6.60427325e+00+0.02171739j,  -6.01602468e+00+0.02591275j],\n",
       "       [ -1.39517073e-01+0.00060094j,   3.72045527e-02+0.00050365j,\n",
       "          7.77156117e-16+0.00049298j, ...,   5.00000000e+00-0.00057575j,\n",
       "         -8.37725326e+00-0.0241101j ,  -1.08597526e+00+0.02621405j],\n",
       "       [ -7.97224015e-02+0.00034339j,   2.12593071e-02+0.00028779j,\n",
       "          5.55111512e-16+0.0002817j , ...,  -1.06581410e-14-0.00032899j,\n",
       "          6.64163865e+00-0.00033719j,  -1.49063249e+01-0.00840371j]])"
      ]
     },
     "execution_count": 14,
     "metadata": {},
     "output_type": "execute_result"
    }
   ],
   "source": [
    "# Operator L\n",
    "def L_v(N,y,dy,R,alpha):\n",
    "    #-------------------------------- Utilisons des commandes définies précédemment\n",
    "    D2v=D2_v(N,dy)\n",
    "    D4v=D4_v(N,dy)\n",
    "    #-------------------------------- Définissons de plus certains termes de notre équation en terme matriciel.\n",
    "    A2=(alpha**2)*np.diag(np.ones(N-4))\n",
    "    A4=(alpha**4)*np.diag(np.ones(N-4))\n",
    "    U=(1-y**2)*np.diag(np.ones(N-4))\n",
    "    D2U=-2*np.diag(np.ones(N-4))\n",
    "    Dinv=np.linalg.inv(D2v-A2)\n",
    "    #-------------------------------- Implémentons l'opérateur L\n",
    "    #C=-1*1j*alpha*np.dot(U,(D2v-np.eye(N-4)*alpha**2))+1j*alpha*D2U+(D4_v(N,dy)+(alpha**4)*np.eye(N-4)-2*(alpha**2)*D2v)/R\n",
    "    #B=(-1j*alpha*np.dot(U,(D2v-A2))+D2U*alpha*1j+(D4v-2*(alpha**2)*D2v+A4)/R)\n",
    "    L=np.dot(Dinv,(-1j*alpha*np.dot(U,(D2v-A2))+D2U*alpha*1j+(D4v-2*(alpha**2)*D2v+A4)/R))\n",
    "    return L\n",
    "y2=y[2:-2]\n",
    "L_v(N,y2,dy,500,0.3)"
   ]
  },
  {
   "cell_type": "markdown",
   "metadata": {},
   "source": [
    "**Question 5: (2 points)** \n",
    "\n",
    "En utilisant un algortihme RK4 dans le temps (https://en.wikipedia.org/wiki/Runge–Kutta_methods#The_Runge–Kutta_method) et un pas de temps de $dt=0.01$, calculer la valeur de ${\\hat v}'$ en $y=0.5$ pour un temps final de $10s$ à partir de la condition initiale suivante,\n",
    "\n",
    "\\begin{align}\n",
    "{\\hat v}'(y) = 0.02*(1+cos(\\pi y))\n",
    "\\end{align}\n",
    "\n",
    "On choisit commme paramêtres, $R=500$ et $\\alpha=0.3$.\n",
    "\n",
    "*Solution: ${\\hat v}'(0.5)=0.00772852-0.01239437i$.*"
   ]
  },
  {
   "cell_type": "code",
   "execution_count": 33,
   "metadata": {},
   "outputs": [
    {
     "name": "stdout",
     "output_type": "stream",
     "text": [
      "[  9.66039848e-05 -7.82782252e-05j   2.16574768e-04 -1.76399587e-04j\n",
      "   3.82493917e-04 -3.14573343e-04j   5.92087840e-04 -4.93679604e-04j\n",
      "   8.42458767e-04 -7.14714208e-04j   1.13016579e-03 -9.78669872e-04j\n",
      "   1.45130816e-03 -1.28642703e-03j   1.80161104e-03 -1.63865729e-03j\n",
      "   2.17651345e-03 -2.03574155e-03j   2.57125732e-03 -2.47770417e-03j\n",
      "   2.98097631e-03 -2.96416374e-03j   3.40078295e-03 -3.49430044e-03j\n",
      "   3.82585220e-03 -4.06683940e-03j   4.25150009e-03 -4.68004902e-03j\n",
      "   4.67325574e-03 -5.33175287e-03j   5.08692564e-03 -6.01935343e-03j\n",
      "   5.48864915e-03 -6.73986576e-03j   5.87494447e-03 -7.48995937e-03j\n",
      "   6.24274485e-03 -8.26600590e-03j   6.58942469e-03 -9.06413113e-03j\n",
      "   6.91281588e-03 -9.88026915e-03j   7.21121477e-03 -1.07102172e-02j\n",
      "   7.48338020e-03 -1.15496895e-02j   7.72852356e-03 -1.23943694e-02j\n",
      "   7.94629160e-03 -1.32399575e-02j   8.13674302e-03 -1.40822166e-02j\n",
      "   8.30031980e-03 -1.49170115e-02j   8.43781426e-03 -1.57403435e-02j\n",
      "   8.55033281e-03 -1.65483804e-02j   8.63925742e-03 -1.73374798e-02j\n",
      "   8.70620550e-03 -1.81042088e-02j   8.75298919e-03 -1.88453566e-02j\n",
      "   8.78157457e-03 -1.95579440e-02j   8.79404151e-03 -2.02392279e-02j\n",
      "   8.79254477e-03 -2.08867011e-02j   8.77927653e-03 -2.14980900e-02j\n",
      "   8.75643095e-03 -2.20713484e-02j   8.72617094e-03 -2.26046491e-02j\n",
      "   8.69059729e-03 -2.30963741e-02j   8.65172031e-03 -2.35451028e-02j\n",
      "   8.61143416e-03 -2.39495998e-02j   8.57149375e-03 -2.43088024e-02j\n",
      "   8.53349430e-03 -2.46218079e-02j   8.49885351e-03 -2.48878618e-02j\n",
      "   8.46879629e-03 -2.51063462e-02j   8.44434198e-03 -2.52767705e-02j\n",
      "   8.42629398e-03 -2.53987621e-02j   8.41523180e-03 -2.54720600e-02j\n",
      "   8.41150540e-03 -2.54965097e-02j   8.41523180e-03 -2.54720600e-02j\n",
      "   8.42629398e-03 -2.53987621e-02j   8.44434198e-03 -2.52767705e-02j\n",
      "   8.46879629e-03 -2.51063462e-02j   8.49885351e-03 -2.48878618e-02j\n",
      "   8.53349430e-03 -2.46218079e-02j   8.57149375e-03 -2.43088024e-02j\n",
      "   8.61143416e-03 -2.39495998e-02j   8.65172031e-03 -2.35451028e-02j\n",
      "   8.69059729e-03 -2.30963741e-02j   8.72617094e-03 -2.26046491e-02j\n",
      "   8.75643095e-03 -2.20713484e-02j   8.77927653e-03 -2.14980900e-02j\n",
      "   8.79254477e-03 -2.08867011e-02j   8.79404151e-03 -2.02392279e-02j\n",
      "   8.78157457e-03 -1.95579440e-02j   8.75298919e-03 -1.88453566e-02j\n",
      "   8.70620550e-03 -1.81042088e-02j   8.63925742e-03 -1.73374798e-02j\n",
      "   8.55033281e-03 -1.65483804e-02j   8.43781426e-03 -1.57403435e-02j\n",
      "   8.30031980e-03 -1.49170115e-02j   8.13674302e-03 -1.40822166e-02j\n",
      "   7.94629160e-03 -1.32399575e-02j   7.72852356e-03 -1.23943694e-02j\n",
      "   7.48338020e-03 -1.15496895e-02j   7.21121477e-03 -1.07102172e-02j\n",
      "   6.91281588e-03 -9.88026915e-03j   6.58942469e-03 -9.06413113e-03j\n",
      "   6.24274485e-03 -8.26600590e-03j   5.87494447e-03 -7.48995937e-03j\n",
      "   5.48864915e-03 -6.73986576e-03j   5.08692564e-03 -6.01935343e-03j\n",
      "   4.67325574e-03 -5.33175287e-03j   4.25150009e-03 -4.68004902e-03j\n",
      "   3.82585220e-03 -4.06683940e-03j   3.40078295e-03 -3.49430044e-03j\n",
      "   2.98097631e-03 -2.96416374e-03j   2.57125732e-03 -2.47770417e-03j\n",
      "   2.17651345e-03 -2.03574155e-03j   1.80161104e-03 -1.63865729e-03j\n",
      "   1.45130816e-03 -1.28642703e-03j   1.13016579e-03 -9.78669872e-04j\n",
      "   8.42458767e-04 -7.14714208e-04j   5.92087840e-04 -4.93679604e-04j\n",
      "   3.82493917e-04 -3.14573343e-04j   2.16574768e-04 -1.76399587e-04j\n",
      "   9.66039848e-05 -7.82782252e-05j]\n",
      "𝑣̂'(0.5)= (0.00772852356078-0.0123943693824j)\n"
     ]
    }
   ],
   "source": [
    "y2=y[2:-2]\n",
    "v0=0.02*(1+np.cos(np.pi*y2))\n",
    "V0=v0\n",
    "R, alpha = 500, 0.3\n",
    "dt, tf = 0.01, 10\n",
    "nt=int(tf/dt)\n",
    "\n",
    "def f(L,v):\n",
    "    f=np.dot(L,v)\n",
    "    return(f)\n",
    "\n",
    "def Rk4(v0,nt,dt):\n",
    "    v0c=v0.copy()\n",
    "    Lv=L_v(N,y2,dy,R,alpha)\n",
    "    for i in range(nt):\n",
    "        k1=dt*f(Lv,v0c)\n",
    "        k2=dt*f(Lv,v0c+(k1/2))\n",
    "        k3=dt*f(Lv,v0c+(k2/2))\n",
    "        k4=dt*f(Lv,v0c+k3)\n",
    "        v0c=v0c+(k1+2*k2+2*k3+k4)/6\n",
    "    return v0c\n",
    "\n",
    "print(Rk4(v0,nt,dt))\n",
    "\n",
    "def Rk4_value(v0,nt,dt,yn):\n",
    "    mask=np.where(y2==yn)\n",
    "    v0c=v0.copy()\n",
    "    Lv=L_v(N,y2,dy,R,alpha)\n",
    "    for i in range(nt):\n",
    "        k1=dt*f(Lv,v0c)\n",
    "        k2=dt*f(Lv,(v0c+(k1/2)))\n",
    "        k3=dt*f(Lv,(v0c+(k2/2)))\n",
    "        k4=dt*f(Lv,(v0c+k3))\n",
    "        v0c=v0c+(k1+2*k2+2*k3+k4)/6\n",
    "    return v0c[mask]\n",
    "\n",
    "print(\"𝑣̂'(0.5)=\",Rk4_value(v0,nt,dt,0.5)[0])"
   ]
  },
  {
   "cell_type": "markdown",
   "metadata": {},
   "source": [
    "**Question 6: (1 point)** \n",
    "\n",
    "A partir de l'équation (**), calculer le propagateur $X$ à l'instant $t=10$ pour les mêmes valeurs des paramètres que précédemment: $R=500$ et $\\alpha=0.3$. Utiliser à nouveau un algorithme RK4 dans le temps et un pas de temps $dt=0.01$."
   ]
  },
  {
   "cell_type": "code",
   "execution_count": 39,
   "metadata": {},
   "outputs": [],
   "source": [
    "def propa(nt):\n",
    "    X0=np.diag(np.ones(N-4))\n",
    "    Xt=Rk4(X0,nt,dt)\n",
    "    return(Xt)"
   ]
  },
  {
   "cell_type": "markdown",
   "metadata": {},
   "source": [
    "**Question 7: (1 point)** \n",
    "\n",
    "Vérifier que le propagateur transforme bien la condition initiale de la question 5 en la solution que vous avez obtenue."
   ]
  },
  {
   "cell_type": "code",
   "execution_count": 66,
   "metadata": {},
   "outputs": [],
   "source": [
    "def check_answer(nt,yn,deci):\n",
    "    mask=np.where(y2==yn)\n",
    "    Xt, rk4 = propa(nt), Rk4(v0,nt,dt)\n",
    "    Xtv = f(Xt,v0)\n",
    "    Xtv_val, rk4_val = Xtv[mask][0], rk4[mask][0]\n",
    "    if round(Xtv_val,deci)==round(rk4_val,deci): #Nous devons arrondir car le processeur va calculer à une décimale qui ne s'affichera pas sur le notebook\n",
    "        print(\"Les deux solutions sont équivalentes:\\n\", Xtv_val,\"=\", rk4_val)\n",
    "    else:\n",
    "        print(\"Error\")"
   ]
  },
  {
   "cell_type": "code",
   "execution_count": 67,
   "metadata": {},
   "outputs": [
    {
     "name": "stdout",
     "output_type": "stream",
     "text": [
      "Les deux solutions sont équivalentes:\n",
      " (0.00772852356078-0.0123943693824j) = (0.00772852356078-0.0123943693824j)\n"
     ]
    }
   ],
   "source": [
    "check_answer(nt,0.5,8)"
   ]
  },
  {
   "cell_type": "markdown",
   "metadata": {},
   "source": [
    "**Question 8: (2 points)** \n",
    "\n",
    "En utilisant la fonction disponible dans numpy, effectuer la décomposition singulière du propagateur obtenu à la question 7 et calculer la plus grande des valeurs sigulières. Faire un graphique de la perturbation optimale correspondante (elle correspond au vecteur d'entrée associé à cette plus grande valeur singulière).\n",
    "\n",
    "*Solution: s=3.3042383*"
   ]
  },
  {
   "cell_type": "markdown",
   "metadata": {},
   "source": [
    "**Question 9: (2 points)** \n",
    "\n",
    "En faisant varier $\\alpha$ comme paramètre dans le propagateur, écrire un programme qui permet de déterminer la valeur de $\\alpha$ qui maximise l'amplification des perturbations à l'instant $t=10$ (toujours avec $R=500$) et en utilisant la même résolution et méthode numérique que précédemment. Faire un graphique de $s$ en fonction de $k$."
   ]
  },
  {
   "cell_type": "markdown",
   "metadata": {},
   "source": [
    "**Sources:**\n",
    "\n",
    "\\begin[itemize]\n",
    "    \\item https://docs.scipy.org/doc/numpy/user/quickstart.html \\\\\n",
    "    \\item https://docs.scipy.org/doc/numpy/reference/generated/numpy.diag.html?highlight=diag#numpy.diag \\\\\n",
    "    \\item https://docs.scipy.org/doc/numpy/reference/generated/numpy.linalg.inv.html?highlight=inv#numpy.linalg.inv \\\\\n",
    "    \\item https://en.wikipedia.org/wiki/Finite_difference_coefficient \\\\\n",
    "    \\item https://en.wikipedia.org/wiki/Runge%E2%80%93Kutta_methods#The_Runge%E2%80%93Kutta_method \\\\\n",
    "\\end[itemize]"
   ]
  },
  {
   "cell_type": "code",
   "execution_count": null,
   "metadata": {},
   "outputs": [],
   "source": []
  }
 ],
 "metadata": {
  "kernelspec": {
   "display_name": "Python 3",
   "language": "python",
   "name": "python3"
  },
  "language_info": {
   "codemirror_mode": {
    "name": "ipython",
    "version": 3
   },
   "file_extension": ".py",
   "mimetype": "text/x-python",
   "name": "python",
   "nbconvert_exporter": "python",
   "pygments_lexer": "ipython3",
   "version": "3.6.7"
  }
 },
 "nbformat": 4,
 "nbformat_minor": 2
}
